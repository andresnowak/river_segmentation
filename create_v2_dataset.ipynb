{
 "cells": [
  {
   "cell_type": "code",
   "execution_count": 18,
   "metadata": {},
   "outputs": [],
   "source": [
    "import numpy as np\n",
    "import cv2 as cv\n",
    "import matplotlib.pyplot as plt\n",
    "import os"
   ]
  },
  {
   "cell_type": "code",
   "execution_count": 19,
   "metadata": {},
   "outputs": [],
   "source": [
    "l_paths = [\"train\", \"validation\", \"test\"]\n",
    "t_paths = [\"images\", \"masks\"]"
   ]
  },
  {
   "cell_type": "code",
   "execution_count": 20,
   "metadata": {},
   "outputs": [],
   "source": [
    "for i in l_paths:\n",
    "    for j in t_paths:\n",
    "        new_path = f\"dataset/dataset_v2/{i}/{j}\"\n",
    "        isExist = os.path.exists(new_path)\n",
    "        if not isExist:\n",
    "            os.makedirs(new_path)\n",
    "            print(\"The new directory is created!\")"
   ]
  },
  {
   "cell_type": "markdown",
   "metadata": {},
   "source": [
    "### Copy images and masks from dataset_binary"
   ]
  },
  {
   "cell_type": "code",
   "execution_count": 21,
   "metadata": {},
   "outputs": [
    {
     "name": "stdout",
     "output_type": "stream",
     "text": [
      "6726\n",
      "1068\n",
      "2590\n"
     ]
    }
   ],
   "source": [
    "for i in l_paths:\n",
    "    count = 0\n",
    "    for j in t_paths:\n",
    "        for root, dirs, files in os.walk(f\"atlantis/dataset_binary/{i}/{j}\"):\n",
    "            for name in files:\n",
    "                image = cv.imread(os.path.join(root, name))\n",
    "\n",
    "                cv.imwrite(f\"dataset/dataset_v2/{i}/{j}/{name}\", image)\n",
    "\n",
    "                #print(os.path.join(root, name))\n",
    "                count += 1\n",
    "    \n",
    "    print(count)\n"
   ]
  },
  {
   "cell_type": "markdown",
   "metadata": {},
   "source": [
    "### Copy images from dataset_v1"
   ]
  },
  {
   "cell_type": "code",
   "execution_count": 22,
   "metadata": {},
   "outputs": [
    {
     "name": "stdout",
     "output_type": "stream",
     "text": [
      "1578\n",
      "456\n",
      "222\n"
     ]
    }
   ],
   "source": [
    "for i in l_paths:\n",
    "    count = 0\n",
    "    for j in t_paths:\n",
    "        for root, dirs, files in os.walk(f\"dataset/dataset_v1/{i}/{j}\"):\n",
    "            for name in files:\n",
    "                image = cv.imread(os.path.join(root, name))\n",
    "\n",
    "                cv.imwrite(f\"dataset/dataset_v2/{i}/{j}/{name}\", image)\n",
    "\n",
    "                #print(os.path.join(root, name))\n",
    "                count += 1\n",
    "    \n",
    "    print(count)"
   ]
  },
  {
   "cell_type": "code",
   "execution_count": 23,
   "metadata": {},
   "outputs": [
    {
     "name": "stdout",
     "output_type": "stream",
     "text": [
      "12640\n"
     ]
    }
   ],
   "source": [
    "count = 0\n",
    "for root, dirs, files in os.walk(f\"dataset/dataset_v2\"):\n",
    "    for name in files:\n",
    "        count += 1\n",
    "\n",
    "print(count)"
   ]
  }
 ],
 "metadata": {
  "kernelspec": {
   "display_name": "Python 3.10.6 ('AI')",
   "language": "python",
   "name": "python3"
  },
  "language_info": {
   "codemirror_mode": {
    "name": "ipython",
    "version": 3
   },
   "file_extension": ".py",
   "mimetype": "text/x-python",
   "name": "python",
   "nbconvert_exporter": "python",
   "pygments_lexer": "ipython3",
   "version": "3.10.6"
  },
  "orig_nbformat": 4,
  "vscode": {
   "interpreter": {
    "hash": "71f8a22563664e7fd593e913f560669104737b8ff064ffb20c7dfa1c5db14acf"
   }
  }
 },
 "nbformat": 4,
 "nbformat_minor": 2
}
