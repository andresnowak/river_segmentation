{
 "cells": [
  {
   "cell_type": "code",
   "execution_count": 38,
   "metadata": {},
   "outputs": [],
   "source": [
    "import numpy as np\n",
    "import pandas as pd\n",
    "import matplotlib.pyplot as plt\n",
    "import cv2\n",
    "import os"
   ]
  },
  {
   "cell_type": "code",
   "execution_count": 39,
   "metadata": {},
   "outputs": [],
   "source": [
    "path_ade_train = 'ADE_water_dataset/train'\n",
    "path_ade_val = 'ADE_water_dataset/validation'\n",
    "\n",
    "new_path_train = \"dataset/dataset_v4/train\"\n",
    "new_path_val = \"dataset/dataset_v4/validation\""
   ]
  },
  {
   "cell_type": "code",
   "execution_count": 40,
   "metadata": {},
   "outputs": [],
   "source": [
    "ade_train_images = os.listdir(os.path.join(path_ade_train, \"images\"))\n",
    "ade_train_masks = os.listdir(os.path.join(path_ade_train, \"masks\"))\n",
    "\n",
    "ade_val_images = os.listdir(os.path.join(path_ade_val, \"images\"))\n",
    "ade_val_masks = os.listdir(os.path.join(path_ade_val, \"masks\"))"
   ]
  },
  {
   "cell_type": "code",
   "execution_count": 41,
   "metadata": {},
   "outputs": [],
   "source": [
    "def copy_image(path, new_path, files):\n",
    "    for file in files:\n",
    "        image = cv2.imread(os.path.join(os.path.join(path, \"images\"), file), cv2.COLOR_BGR2RGB)\n",
    "\n",
    "        cv2.imwrite(os.path.join(os.path.join(new_path, \"images\"), file), image)"
   ]
  },
  {
   "cell_type": "code",
   "execution_count": 42,
   "metadata": {},
   "outputs": [],
   "source": [
    "def copy_masks(path, new_path, files):\n",
    "    for file in files:\n",
    "        image = cv2.imread(os.path.join(os.path.join(path, \"masks\"), file), cv2.COLOR_BGR2GRAY)\n",
    "\n",
    "        cv2.imwrite(os.path.join(os.path.join(new_path, \"masks\"), file), image)"
   ]
  },
  {
   "cell_type": "code",
   "execution_count": 43,
   "metadata": {},
   "outputs": [],
   "source": [
    "copy_image(path_ade_train, new_path_train, ade_train_images)\n",
    "copy_image(path_ade_val, new_path_val, ade_val_images)"
   ]
  },
  {
   "cell_type": "code",
   "execution_count": null,
   "metadata": {},
   "outputs": [],
   "source": [
    "copy_masks(path_ade_train, new_path_train, ade_train_masks)\n",
    "copy_masks(path_ade_val, new_path_val, ade_val_masks)"
   ]
  }
 ],
 "metadata": {
  "kernelspec": {
   "display_name": "Python 3.10.6 ('tf-gpu')",
   "language": "python",
   "name": "python3"
  },
  "language_info": {
   "codemirror_mode": {
    "name": "ipython",
    "version": 3
   },
   "file_extension": ".py",
   "mimetype": "text/x-python",
   "name": "python",
   "nbconvert_exporter": "python",
   "pygments_lexer": "ipython3",
   "version": "3.10.6"
  },
  "orig_nbformat": 4,
  "vscode": {
   "interpreter": {
    "hash": "79f576286c1276b480d6696ed40f6607e18214e4a2875a618cb5be817ff26007"
   }
  }
 },
 "nbformat": 4,
 "nbformat_minor": 2
}
